{
  "nbformat": 4,
  "nbformat_minor": 0,
  "metadata": {
    "colab": {
      "name": "day1a.ipynb",
      "version": "0.3.2",
      "provenance": [],
      "include_colab_link": true
    },
    "kernelspec": {
      "name": "python3",
      "display_name": "Python 3"
    }
  },
  "cells": [
    {
      "cell_type": "markdown",
      "metadata": {
        "id": "view-in-github",
        "colab_type": "text"
      },
      "source": [
        "[View in Colaboratory](https://colab.research.google.com/github/fracchutw/AUAISummer2018/blob/master/day1-July3/day1a.ipynb)"
      ]
    },
    {
      "metadata": {
        "id": "IGWy7kIWOefD",
        "colab_type": "text"
      },
      "cell_type": "markdown",
      "source": [
        "# AUAI summer program Day1A Assignment \n"
      ]
    },
    {
      "metadata": {
        "id": "e0fUfpprPDgf",
        "colab_type": "text"
      },
      "cell_type": "markdown",
      "source": [
        "# Online course tools\n",
        "\n",
        "1. Bank\n",
        "   https://www.bot.com.tw/English/BusinessUnits/Domestics/Central/Pages/tb31037.aspx\n",
        "* facebook group\n",
        "  https://www.facebook.com/groups/AUAISummerProgram/\n",
        "\n",
        "_AIY_\n",
        "\n",
        "![National Taiwan Museum of Fine Arts](https://travel.taichung.gov.tw/Utility/DisplayImage?id=6183&rnd=1450770315054)\n"
      ]
    }
  ]
}