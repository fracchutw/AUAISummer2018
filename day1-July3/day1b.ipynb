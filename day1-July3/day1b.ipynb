{
  "nbformat": 4,
  "nbformat_minor": 0,
  "metadata": {
    "colab": {
      "name": "day1b.ipynb",
      "version": "0.3.2",
      "provenance": [],
      "include_colab_link": true
    },
    "kernelspec": {
      "name": "python3",
      "display_name": "Python 3"
    }
  },
  "cells": [
    {
      "cell_type": "markdown",
      "metadata": {
        "id": "view-in-github",
        "colab_type": "text"
      },
      "source": [
        "[View in Colaboratory](https://colab.research.google.com/github/fracchutw/AUAISummer2018/blob/master/day1-July3/day1b.ipynb)"
      ]
    },
    {
      "metadata": {
        "id": "0CH9t6KFDVjS",
        "colab_type": "text"
      },
      "cell_type": "markdown",
      "source": [
        ""
      ]
    },
    {
      "metadata": {
        "id": "Sjn37Nx8DZfu",
        "colab_type": "text"
      },
      "cell_type": "markdown",
      "source": [
        "# AUAI Assignment 1B\n",
        "\n",
        "## Problem: Titanic: Machine Learning from Disaster\n",
        "https://www.kaggle.com/c/titanic/"
      ]
    },
    {
      "metadata": {
        "id": "Mk_JWQRLDI8m",
        "colab_type": "code",
        "colab": {}
      },
      "cell_type": "code",
      "source": [
        ""
      ],
      "execution_count": 0,
      "outputs": []
    },
    {
      "metadata": {
        "id": "n0UO3MFVDqR2",
        "colab_type": "text"
      },
      "cell_type": "markdown",
      "source": [
        "## Data\n",
        "Variable| Key\n",
        "------------ | -------------\n",
        "survival| 0 = No, 1 = Yes\n",
        "pclass| 1 = 1st, 2 = 2nd, 3 = 3rd\n",
        "\n"
      ]
    }
  ]
}